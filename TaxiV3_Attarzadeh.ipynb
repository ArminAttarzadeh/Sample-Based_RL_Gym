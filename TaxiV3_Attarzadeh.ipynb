{
 "cells": [
  {
   "cell_type": "markdown",
   "id": "197a66ca",
   "metadata": {},
   "source": [
    "# Model Free RL : Taxi-v3 \n",
    "## Armin Attarzadeh"
   ]
  },
  {
   "cell_type": "markdown",
   "id": "0827a64a",
   "metadata": {},
   "source": [
    "### Imports"
   ]
  },
  {
   "cell_type": "code",
   "execution_count": 1,
   "id": "aeee713a",
   "metadata": {},
   "outputs": [],
   "source": [
    "import gym\n",
    "import random\n",
    "import numpy as np\n",
    "from matplotlib import pyplot as plt\n",
    "from IPython.display import clear_output"
   ]
  },
  {
   "cell_type": "markdown",
   "id": "13497b0f",
   "metadata": {},
   "source": [
    "### Random Agent Run"
   ]
  },
  {
   "cell_type": "code",
   "execution_count": 133,
   "id": "9d9527ce",
   "metadata": {},
   "outputs": [
    {
     "name": "stdout",
     "output_type": "stream",
     "text": [
      "Total reward:  -65\n",
      "Total steps:  20\n"
     ]
    }
   ],
   "source": [
    "def run_agent(env_name, agent_type='random', Q=None):\n",
    "    env = gym.make(env_name, new_step_api=True)\n",
    "    obs = env.reset()\n",
    "    done = False\n",
    "    total_reward = 0\n",
    "    total_steps = 0\n",
    "\n",
    "    while not done and total_steps < 20:\n",
    "        if agent_type == 'random':\n",
    "            action = env.action_space.sample()\n",
    "        elif agent_type == 'trained':\n",
    "            action = np.argmax(Q[obs])\n",
    "        else:\n",
    "            raise ValueError(\"Invalid agent_type. Use 'random' or 'trained'.\")\n",
    "\n",
    "        obs, reward, done, _, info = env.step(action)\n",
    "        total_reward += reward\n",
    "        total_steps += 1\n",
    "        env.render()\n",
    "\n",
    "        # When we reach the goal, reset the environment\n",
    "        if done:\n",
    "            obs = env.reset()\n",
    "\n",
    "    env.close()\n",
    "    print(\"Total reward: \", total_reward)\n",
    "    print(\"Total steps: \", total_steps)\n",
    "\n",
    "Q_table=on_monte_carlo_q_tables\n",
    "run_agent('Taxi-v3', agent_type='random')\n",
    "#run_agent('Taxi-v3', agent_type='trained', Q=Q_table)"
   ]
  },
  {
   "cell_type": "markdown",
   "id": "b5852264",
   "metadata": {},
   "source": [
    "# PART A: MC"
   ]
  },
  {
   "cell_type": "markdown",
   "id": "e9dc7c84",
   "metadata": {},
   "source": [
    "### A1) Implementing On-Policy Monte Carlo Control (e-Greedy soft Policy)"
   ]
  },
  {
   "cell_type": "code",
   "execution_count": 144,
   "id": "28dd0a37",
   "metadata": {},
   "outputs": [],
   "source": [
    "\n",
    "class OnPolicyMonteCarloAgent:\n",
    "    def __init__(self, env_name, gamma=1, epsilon=0.5):\n",
    "        self.env = gym.make(env_name)\n",
    "        self.gamma = gamma # discount factor\n",
    "        self.epsilon = epsilon # eexploration rate\n",
    "        self.Q = np.zeros([self.env.observation_space.n, self.env.action_space.n]) # Q table\n",
    "        self.N = np.zeros([self.env.observation_space.n, self.env.action_space.n]) # N table\n",
    "        self.policy = self.create_epsilon_soft_policy() # epsilon-soft policy\n",
    "        self.returns = {(s,a):[] for s in range(self.env.observation_space.n) for a in range(self.env.action_space.n)} # dictionary of lists of returns for each state-action pair\n",
    "\n",
    "    def create_epsilon_soft_policy(self):\n",
    "        #returns an epsilon-soft policy\n",
    "        def policy(state):\n",
    "            action_probs = np.ones(self.env.action_space.n) * self.epsilon / self.env.action_space.n\n",
    "            best_action = np.argmax(self.Q[state])\n",
    "            action_probs[best_action] += (1.0 - self.epsilon)\n",
    "            return action_probs\n",
    "        return policy\n",
    "    \n",
    "    def choose_action(self, state):\n",
    "        #returns an action given a state based on the epsilon-soft policy\n",
    "        action_probs = self.policy(state)\n",
    "        action = np.random.choice(np.arange(len(action_probs)), p=action_probs)\n",
    "        return action\n",
    "    \n",
    "    #update Q table based on the episode\n",
    "    def learn(self, episode):\n",
    "        states, actions, rewards = zip(*episode)\n",
    "        discounts = np.array([self.gamma**i for i in range(len(rewards)+1)])\n",
    "        for i, state in enumerate(states):\n",
    "            G = sum(rewards[i:]*discounts[:-(1+i)])\n",
    "            self.N[state, actions[i]] += 1\n",
    "            alpha = 1.0 / self.N[state, actions[i]]\n",
    "            self.Q[state, actions[i]] += alpha * (G - self.Q[state, actions[i]])\n",
    "\n",
    "    def run(self, num_episodes=200):\n",
    "        rewards = []\n",
    "        best_episode_reward = -1000\n",
    "        best_episode = 0\n",
    "        for episode in range(num_episodes):\n",
    "            state = self.env.reset()\n",
    "            done = False\n",
    "            episode_rewards = []\n",
    "            episode_states = []\n",
    "            episode_actions = []\n",
    "            covered_states = set()\n",
    "            while not done:\n",
    "                action = self.choose_action(state) #choose an action\n",
    "                next_state, reward, done, info = self.env.step(action) #take action\n",
    "                episode_rewards.append(reward) #store reward\n",
    "                episode_states.append(state) #store state\n",
    "                episode_actions.append(action) #store action\n",
    "                covered_states.add(state) #add state to covered states\n",
    "                state = next_state #update state\n",
    "            episode_rewards = np.array(episode_rewards)\n",
    "            rewards.append(sum(episode_rewards)) \n",
    "            if sum(episode_rewards) > best_episode_reward:\n",
    "                best_episode_reward = sum(episode_rewards)\n",
    "                best_episode = episode\n",
    "            self.learn(zip(episode_states, episode_actions, episode_rewards)) #update Q table\n",
    "        return rewards, best_episode_reward, best_episode,  self.Q\n",
    "    \n",
    "#Function to plot the rewards(over N runs) vs episodes during training\n",
    "def plot_rewards(rewards):\n",
    "    plt.plot(rewards)\n",
    "    plt.xlabel(\"Episode\")\n",
    "    plt.ylabel(\"Total reward\")\n",
    "    plt.show()\n"
   ]
  },
  {
   "cell_type": "code",
   "execution_count": 145,
   "id": "9424666b",
   "metadata": {
    "scrolled": true
   },
   "outputs": [
    {
     "name": "stderr",
     "output_type": "stream",
     "text": [
      "C:\\ProgramData\\Anaconda3\\lib\\site-packages\\gym\\core.py:317: DeprecationWarning: \u001b[33mWARN: Initializing wrapper in old step API which returns one bool instead of two. It is recommended to set `new_step_api=True` to use new step API. This will be the default behaviour in future.\u001b[0m\n",
      "  deprecation(\n",
      "C:\\ProgramData\\Anaconda3\\lib\\site-packages\\gym\\wrappers\\step_api_compatibility.py:39: DeprecationWarning: \u001b[33mWARN: Initializing environment in old step API which returns one bool instead of two. It is recommended to set `new_step_api=True` to use new step API. This will be the default behaviour in future.\u001b[0m\n",
      "  deprecation(\n"
     ]
    },
    {
     "name": "stdout",
     "output_type": "stream",
     "text": [
      "Average reward over the runs: \n"
     ]
    },
    {
     "data": {
      "image/png": "[encoded data removed]",
      "text/plain": [
       "<Figure size 432x288 with 1 Axes>"
      ]
     },
     "metadata": {
      "needs_background": "light"
     },
     "output_type": "display_data"
    },
    {
     "name": "stdout",
     "output_type": "stream",
     "text": [
      "----------------------------------\n",
      "Mean of best episode rewards:  14.9\n",
      "Mean of best episodes:  5114.4\n"
     ]
    }
   ],
   "source": [
    "runs = 10\n",
    "num_episodes = 10000\n",
    "on_monte_carlo_rewards = np.zeros((runs, num_episodes))\n",
    "on_monte_carlo_best_episode_rewards = np.zeros(runs)\n",
    "on_monte_carlo_best_episodes = np.zeros(runs)\n",
    "on_monte_carlo_q_tables = np.zeros((runs, 500, 6))\n",
    "\n",
    "\n",
    "for run in range(runs):\n",
    "    agent = OnPolicyMonteCarloAgent('Taxi-v3') \n",
    "    \n",
    "    rewards, best_reward, best_episode, q_table = agent.run(num_episodes)\n",
    "\n",
    "    on_monte_carlo_rewards[run, :] = rewards\n",
    "    on_monte_carlo_best_episode_rewards[run] = best_reward\n",
    "    on_monte_carlo_best_episodes[run] = best_episode\n",
    "    on_monte_carlo_q_tables[run, :, :] = q_table\n",
    "\n",
    "#We plot the average reward over the N runs\n",
    "print(\"Average reward over the runs: \")\n",
    "plot_rewards(np.mean(on_monte_carlo_rewards, axis=0))\n",
    "\n",
    "print(\"----------------------------------\")\n",
    "\n",
    "#We print the best reward and the episode in which it was obtained\n",
    "print(\"Mean of best episode rewards: \", np.mean(on_monte_carlo_best_episode_rewards))\n",
    "print(\"Mean of best episodes: \", np.mean(on_monte_carlo_best_episodes))\n"
   ]
  },
  {
   "cell_type": "markdown",
   "id": "418b991c",
   "metadata": {},
   "source": [
    "\n",
    "\n",
    "###  A2- OFF-Policy Monte Carlo Using Importance Sampling\n",
    "#### (Flag) Average methods : 'ordinary' or 'weighted'"
   ]
  },
  {
   "cell_type": "code",
   "execution_count": 88,
   "id": "b67ccef9",
   "metadata": {},
   "outputs": [],
   "source": [
    "class OffPolicyMonteCarloAgent:\n",
    "    def __init__(self, env_name, importance_sampling='weighted'و gamma=1, epsilon=0.1):\n",
    "        self.env = gym.make(env_name)\n",
    "        self.gamma = gamma  # discount factor\n",
    "        self.epsilon = epsilon  # exploration rate\n",
    "        self.Q = np.zeros([self.env.observation_space.n, self.env.action_space.n])  # Q table\n",
    "        self.C = np.zeros([self.env.observation_space.n, self.env.action_space.n])  # C table\n",
    "        self.target_policy = self.create_epsilon_soft_policy()  # target policy (can be any arbitrary policy)\n",
    "        self.behavior_policy = self.create_epsilon_soft_policy()  # behavior policy\n",
    "        self.returns = {(s, a): [] for s in range(self.env.observation_space.n) for a in range(self.env.action_space.n)}  # dictionary of lists of returns for each state-action pair\n",
    "        self.importance_sampling = importance_sampling  # Flag for selecting 'ordinary' or 'weighted'\n",
    "\n",
    "    def create_epsilon_soft_policy(self):\n",
    "        def policy(state):\n",
    "            action_probs = np.ones(self.env.action_space.n) * self.epsilon / self.env.action_space.n\n",
    "            best_action = np.argmax(self.Q[state])\n",
    "            action_probs[best_action] += (1.0 - self.epsilon)\n",
    "            return action_probs\n",
    "        return policy\n",
    "\n",
    "    def choose_action(self, state, policy):\n",
    "        # returns an action given a state based on a given policy\n",
    "        action_probs = policy(state)\n",
    "        action = np.random.choice(np.arange(len(action_probs)), p=action_probs)\n",
    "        return action\n",
    "\n",
    "    # update Q table based on the episode\n",
    "    def learn(self, episode):\n",
    "        states, actions, rewards = zip(*episode)\n",
    "        discounts = np.array([self.gamma**i for i in range(len(rewards)+1)])\n",
    "        W = 1.0\n",
    "        G = 0\n",
    "        for i in reversed(range(len(states))):\n",
    "            state = states[i]\n",
    "            action = actions[i]\n",
    "            reward = rewards[i]\n",
    "            G = self.gamma * G + reward\n",
    "            self.C[state, action] += W\n",
    "\n",
    "            if self.importance_sampling == 'weighted':\n",
    "                self.Q[state, action] += (W / self.C[state, action]) * (G - self.Q[state, action])\n",
    "                W = W * 1.0 / self.behavior_policy(state)[action]\n",
    "            elif self.importance_sampling == 'ordinary':\n",
    "                self.Q[state, action] += (1.0 / self.C[state, action]) * (G - self.Q[state, action])\n",
    "\n",
    "            self.returns[(state, action)].append(G)\n",
    "\n",
    "            if self.target_policy(state)[action] != self.behavior_policy(state)[action]:\n",
    "                break\n",
    "\n",
    "    def run(self, num_episodes=200):\n",
    "        rewards = []\n",
    "        best_episode_reward = -1000\n",
    "        best_episode = 0\n",
    "        for episode in range(num_episodes):\n",
    "            state = self.env.reset()\n",
    "            done = False\n",
    "            episode_rewards = []\n",
    "            episode_states = []\n",
    "            episode_actions = []\n",
    "            covered_states = set()\n",
    "            while not done:\n",
    "                action = self.choose_action(state, self.behavior_policy)\n",
    "                next_state, reward, done, info = self.env.step(action)\n",
    "                episode_rewards.append(reward)\n",
    "                episode_states.append(state)\n",
    "                episode_actions.append(action)\n",
    "                covered_states.add(state)  # we add the state to the set of covered states\n",
    "                state = next_state\n",
    "            episode_rewards = np.array(episode_rewards)\n",
    "            rewards.append(sum(episode_rewards))\n",
    "            if sum(episode_rewards) > best_episode_reward:\n",
    "                best_episode_reward = sum(episode_rewards)\n",
    "                best_episode = episode\n",
    "            self.learn(zip(episode_states, episode_actions, episode_rewards))\n",
    "        return rewards, best_episode_reward, best_episode, self.Q \n"
   ]
  },
  {
   "cell_type": "markdown",
   "id": "132d2f54",
   "metadata": {},
   "source": [
    "#### Off-Policy MC: ordinary"
   ]
  },
  {
   "cell_type": "code",
   "execution_count": 89,
   "id": "3fe7b2c6",
   "metadata": {
    "scrolled": false
   },
   "outputs": [
    {
     "name": "stderr",
     "output_type": "stream",
     "text": [
      "C:\\ProgramData\\Anaconda3\\lib\\site-packages\\gym\\core.py:317: DeprecationWarning: \u001b[33mWARN: Initializing wrapper in old step API which returns one bool instead of two. It is recommended to set `new_step_api=True` to use new step API. This will be the default behaviour in future.\u001b[0m\n",
      "  deprecation(\n",
      "C:\\ProgramData\\Anaconda3\\lib\\site-packages\\gym\\wrappers\\step_api_compatibility.py:39: DeprecationWarning: \u001b[33mWARN: Initializing environment in old step API which returns one bool instead of two. It is recommended to set `new_step_api=True` to use new step API. This will be the default behaviour in future.\u001b[0m\n",
      "  deprecation(\n",
      "C:\\ProgramData\\Anaconda3\\lib\\site-packages\\gym\\utils\\passive_env_checker.py:241: DeprecationWarning: `np.bool8` is a deprecated alias for `np.bool_`.  (Deprecated NumPy 1.24)\n",
      "  if not isinstance(terminated, (bool, np.bool8)):\n"
     ]
    },
    {
     "name": "stdout",
     "output_type": "stream",
     "text": [
      "Average reward over the runs\n"
     ]
    },
    {
     "data": {
      "image/png": "[encoded data removed]",
      "text/plain": [
       "<Figure size 432x288 with 1 Axes>"
      ]
     },
     "metadata": {
      "needs_background": "light"
     },
     "output_type": "display_data"
    },
    {
     "name": "stdout",
     "output_type": "stream",
     "text": [
      "----------------------------------\n",
      "Mean of best episode rewards:  -47.7\n",
      "Mean of best episodes:  408.2\n",
      "----------------------------------\n"
     ]
    }
   ],
   "source": [
    "runs = 10\n",
    "num_episodes = 1000\n",
    "\n",
    "off_policy_monte_carlo_rewards1 = np.zeros((runs, num_episodes))\n",
    "off_policy_monte_carlo_best_episode_rewards1 = np.zeros(runs)\n",
    "off_policy_monte_carlo_best_episodes1 = np.zeros(runs)\n",
    "off_policy_monte_carlo_q_tables1 = np.zeros((runs, 500, 6))\n",
    "\n",
    "for run in range(runs):\n",
    "    agent = OffPolicyMonteCarloAgent('Taxi-v3','ordinary')\n",
    "    \n",
    "    \n",
    "    rewards, best_reward, best_episode, q_table = agent.run(num_episodes)\n",
    "\n",
    "    off_policy_monte_carlo_rewards1[run, :] = rewards\n",
    "    off_policy_monte_carlo_best_episode_rewards1[run] = best_reward\n",
    "    off_policy_monte_carlo_best_episodes1[run] = best_episode\n",
    "    off_policy_monte_carlo_q_tables1[run, :, :] = q_table\n",
    "\n",
    "#We plot the average reward over the N runs\n",
    "print(\"Average reward over the runs\")\n",
    "plot_rewards(np.mean(off_policy_monte_carlo_rewards1, axis=0))\n",
    "\n",
    "print(\"----------------------------------\")\n",
    "\n",
    "#We print the best reward and the episode in which it was obtained\n",
    "print(\"Mean of best episode rewards: \", np.mean(off_policy_monte_carlo_best_episode_rewards1))\n",
    "print(\"Mean of best episodes: \", np.mean(off_policy_monte_carlo_best_episodes1))\n",
    "\n",
    "print(\"----------------------------------\")"
   ]
  },
  {
   "cell_type": "markdown",
   "id": "81c49a21",
   "metadata": {},
   "source": [
    "#### Off-Policy MC: weighted"
   ]
  },
  {
   "cell_type": "code",
   "execution_count": 90,
   "id": "d3ff966a",
   "metadata": {
    "scrolled": true
   },
   "outputs": [
    {
     "name": "stderr",
     "output_type": "stream",
     "text": [
      "C:\\ProgramData\\Anaconda3\\lib\\site-packages\\ipykernel\\ipkernel.py:287: DeprecationWarning: `should_run_async` will not call `transform_cell` automatically in the future. Please pass the result to `transformed_cell` argument and any exception that happen during thetransform in `preprocessing_exc_tuple` in IPython 7.17 and above.\n",
      "  and should_run_async(code)\n",
      "C:\\ProgramData\\Anaconda3\\lib\\site-packages\\gym\\core.py:317: DeprecationWarning: \u001b[33mWARN: Initializing wrapper in old step API which returns one bool instead of two. It is recommended to set `new_step_api=True` to use new step API. This will be the default behaviour in future.\u001b[0m\n",
      "  deprecation(\n",
      "C:\\ProgramData\\Anaconda3\\lib\\site-packages\\gym\\wrappers\\step_api_compatibility.py:39: DeprecationWarning: \u001b[33mWARN: Initializing environment in old step API which returns one bool instead of two. It is recommended to set `new_step_api=True` to use new step API. This will be the default behaviour in future.\u001b[0m\n",
      "  deprecation(\n",
      "C:\\ProgramData\\Anaconda3\\lib\\site-packages\\gym\\utils\\passive_env_checker.py:241: DeprecationWarning: `np.bool8` is a deprecated alias for `np.bool_`.  (Deprecated NumPy 1.24)\n",
      "  if not isinstance(terminated, (bool, np.bool8)):\n",
      "<ipython-input-88-778f1ce07fa4>:42: RuntimeWarning: overflow encountered in scalar divide\n",
      "  W = W * 1.0 / self.behavior_policy(state)[action]\n",
      "<ipython-input-88-778f1ce07fa4>:41: RuntimeWarning: invalid value encountered in scalar divide\n",
      "  self.Q[state, action] += (W / self.C[state, action]) * (G - self.Q[state, action])\n"
     ]
    },
    {
     "name": "stdout",
     "output_type": "stream",
     "text": [
      "Average reward over the runs\n"
     ]
    },
    {
     "data": {
      "image/png": "[encoded data removed]",
      "text/plain": [
       "<Figure size 432x288 with 1 Axes>"
      ]
     },
     "metadata": {
      "needs_background": "light"
     },
     "output_type": "display_data"
    },
    {
     "name": "stdout",
     "output_type": "stream",
     "text": [
      "----------------------------------\n",
      "Mean of best episode rewards:  -22.1\n",
      "Mean of best episodes:  670.9\n",
      "----------------------------------\n"
     ]
    }
   ],
   "source": [
    "runs = 10\n",
    "num_episodes = 1000\n",
    "\n",
    "off_policy_monte_carlo_rewards2 = np.zeros((runs, num_episodes))\n",
    "off_policy_monte_carlo_best_episode_rewards2 = np.zeros(runs)\n",
    "off_policy_monte_carlo_best_episodes2 = np.zeros(runs)\n",
    "off_policy_monte_carlo_q_tables2 = np.zeros((runs, 500, 6))\n",
    "\n",
    "for run in range(runs):\n",
    "    agent = OffPolicyMonteCarloAgent('Taxi-v3','weighted')\n",
    "    \n",
    "    \n",
    "    rewards, best_reward, best_episode, q_table = agent.run(num_episodes)\n",
    "\n",
    "    off_policy_monte_carlo_rewards2[run, :] = rewards\n",
    "    off_policy_monte_carlo_best_episode_rewards2[run] = best_reward\n",
    "    off_policy_monte_carlo_best_episodes2[run] = best_episode\n",
    "    off_policy_monte_carlo_q_tables2[run, :, :] = q_table\n",
    "\n",
    "#We plot the average reward over the N runs\n",
    "print(\"Average reward over the runs\")\n",
    "plot_rewards(np.mean(off_policy_monte_carlo_rewards2, axis=0))\n",
    "\n",
    "print(\"----------------------------------\")\n",
    "\n",
    "#We print the best reward and the episode in which it was obtained\n",
    "print(\"Mean of best episode rewards: \", np.mean(off_policy_monte_carlo_best_episode_rewards2))\n",
    "print(\"Mean of best episodes: \", np.mean(off_policy_monte_carlo_best_episodes2))\n",
    "\n",
    "print(\"----------------------------------\")"
   ]
  },
  {
   "cell_type": "markdown",
   "id": "a104e438",
   "metadata": {},
   "source": [
    "# PART B: TD"
   ]
  },
  {
   "cell_type": "markdown",
   "id": "4f242b1d",
   "metadata": {},
   "source": [
    "### B1) Implementing Q-Learning\n"
   ]
  },
  {
   "cell_type": "code",
   "execution_count": 92,
   "id": "c4ef4cc7",
   "metadata": {},
   "outputs": [],
   "source": [
    "class QLearningAgent:\n",
    "    def __init__(self, env_name, alpha=0.5, gamma=1, epsilon=0.1):\n",
    "        self.env = gym.make(env_name)\n",
    "        self.Q = np.zeros((self.env.observation_space.n, self.env.action_space.n))\n",
    "        self.alpha = alpha #learning rate\n",
    "        self.gamma = gamma #discount factor\n",
    "        self.epsilon = epsilon #exploration rate\n",
    "\n",
    "    def choose_action(self, state): \n",
    "        #returns an action given a state based on the epsilon-greedy policy\n",
    "        if random.uniform(0, 1) < self.epsilon:\n",
    "            action = np.random.choice(self.env.action_space.n) \n",
    "        else:\n",
    "            action = np.argmax(self.Q[state, :])\n",
    "        return action\n",
    "    \n",
    "    def learn(self, state, action, reward, next_state):\n",
    "        #update Q table\n",
    "        self.Q[state, action] = self.Q[state, action] + self.alpha * (reward + self.gamma * np.max(self.Q[next_state, :]) - self.Q[state, action])\n",
    "        \n",
    "    def run(self, num_episodes=1000):\n",
    "        rewards = []\n",
    "        best_episode_reward = -1000\n",
    "        best_episode = 0\n",
    "        for episode in range(num_episodes):\n",
    "            state = self.env.reset()\n",
    "            done = False\n",
    "            total_reward = 0\n",
    "            while not done:\n",
    "                action = self.choose_action(state) #choose an action\n",
    "                next_state, reward, done, info = self.env.step(action) #take action\n",
    "                self.learn(state, action, reward, next_state) #update Q table\n",
    "                state = next_state #update state\n",
    "                total_reward += reward #update total reward\n",
    "            rewards.append(total_reward)\n",
    "            if total_reward > best_episode_reward:\n",
    "                best_episode_reward = total_reward\n",
    "                best_episode = episode\n",
    "        return rewards, best_episode_reward, best_episode , self.Q"
   ]
  },
  {
   "cell_type": "code",
   "execution_count": 99,
   "id": "dadbcab7",
   "metadata": {
    "scrolled": false
   },
   "outputs": [
    {
     "name": "stderr",
     "output_type": "stream",
     "text": [
      "C:\\ProgramData\\Anaconda3\\lib\\site-packages\\ipykernel\\ipkernel.py:287: DeprecationWarning: `should_run_async` will not call `transform_cell` automatically in the future. Please pass the result to `transformed_cell` argument and any exception that happen during thetransform in `preprocessing_exc_tuple` in IPython 7.17 and above.\n",
      "  and should_run_async(code)\n",
      "C:\\ProgramData\\Anaconda3\\lib\\site-packages\\gym\\core.py:317: DeprecationWarning: \u001b[33mWARN: Initializing wrapper in old step API which returns one bool instead of two. It is recommended to set `new_step_api=True` to use new step API. This will be the default behaviour in future.\u001b[0m\n",
      "  deprecation(\n",
      "C:\\ProgramData\\Anaconda3\\lib\\site-packages\\gym\\wrappers\\step_api_compatibility.py:39: DeprecationWarning: \u001b[33mWARN: Initializing environment in old step API which returns one bool instead of two. It is recommended to set `new_step_api=True` to use new step API. This will be the default behaviour in future.\u001b[0m\n",
      "  deprecation(\n",
      "C:\\ProgramData\\Anaconda3\\lib\\site-packages\\gym\\utils\\passive_env_checker.py:241: DeprecationWarning: `np.bool8` is a deprecated alias for `np.bool_`.  (Deprecated NumPy 1.24)\n",
      "  if not isinstance(terminated, (bool, np.bool8)):\n"
     ]
    },
    {
     "name": "stdout",
     "output_type": "stream",
     "text": [
      "Average reward over the runs: \n"
     ]
    },
    {
     "data": {
      "image/png": "[encoded data removed]",
      "text/plain": [
       "<Figure size 432x288 with 1 Axes>"
      ]
     },
     "metadata": {
      "needs_background": "light"
     },
     "output_type": "display_data"
    },
    {
     "name": "stdout",
     "output_type": "stream",
     "text": [
      "----------------------------------\n",
      "Mean of best episode rewards:  14.95\n",
      "Mean of best episodes:  348.05\n",
      "----------------------------------\n"
     ]
    }
   ],
   "source": [
    "runs = 20\n",
    "num_episodes = 1000\n",
    "q_learn_rewards = np.zeros((runs, num_episodes))\n",
    "q_learn_best_episode_rewards = np.zeros(runs)\n",
    "q_learn_best_episodes = np.zeros(runs)\n",
    "q_learn_Q_table=np.zeros((runs, 500, 6))\n",
    "\n",
    "for run in range(runs):\n",
    "    agent = QLearningAgent('Taxi-v3') \n",
    "    q_learn_rewards[run, :], q_learn_best_episode_rewards[run], q_learn_best_episodes[run] , q_learn_Q_table[run, :, :] = agent.run(num_episodes)\n",
    "    \n",
    "#We plot the average reward over the N runs\n",
    "print(\"Average reward over the runs: \")\n",
    "plot_rewards(np.mean(q_learn_rewards, axis=0)) \n",
    "\n",
    "print(\"----------------------------------\")\n",
    "\n",
    "#We print the best reward and the episode in which it was obtained\n",
    "\n",
    "print(\"Mean of best episode rewards: \", np.mean(q_learn_best_episode_rewards))\n",
    "print(\"Mean of best episodes: \", np.mean(q_learn_best_episodes))\n",
    "\n",
    "print(\"----------------------------------\")"
   ]
  },
  {
   "cell_type": "markdown",
   "id": "eb771790",
   "metadata": {},
   "source": [
    "### B2) Implementing Sarsa"
   ]
  },
  {
   "cell_type": "code",
   "execution_count": 101,
   "id": "728fa2af",
   "metadata": {},
   "outputs": [],
   "source": [
    "class SarsaAgent:\n",
    "    def __init__(self, env_name, alpha=0.5, gamma=1, epsilon=0.1):\n",
    "        self.env = gym.make(env_name)\n",
    "        self.Q = np.zeros((self.env.observation_space.n, self.env.action_space.n))\n",
    "        self.alpha = alpha #learning rate\n",
    "        self.gamma = gamma #discount factor\n",
    "        self.epsilon = epsilon #exploration rate\n",
    "\n",
    "    def choose_action(self, state): \n",
    "        #returns an action given a state based on the epsilon-greedy policy\n",
    "        if random.uniform(0, 1) < self.epsilon:\n",
    "            action = self.env.action_space.sample()\n",
    "        else:\n",
    "            action = np.argmax(self.Q[state, :])\n",
    "        return action\n",
    "    \n",
    "    def learn(self, state, action, reward, next_state, next_action):\n",
    "        #update Q table\n",
    "        self.Q[state, action] = self.Q[state, action] + self.alpha * (reward + self.gamma * self.Q[next_state, next_action] - self.Q[state, action])\n",
    "        \n",
    "    def run(self, num_episodes=1000):\n",
    "        rewards = []\n",
    "        best_episode_reward = -1000\n",
    "        best_episode = 0\n",
    "        for episode in range(num_episodes):\n",
    "            state = self.env.reset()\n",
    "            done = False\n",
    "            total_reward = 0\n",
    "            action = self.choose_action(state)\n",
    "            while not done:\n",
    "                next_state, reward, done, info = self.env.step(action) #take action\n",
    "                next_action = self.choose_action(next_state) #choose next action\n",
    "                self.learn(state, action, reward, next_state, next_action) #update Q table\n",
    "                state = next_state #update state\n",
    "                action = next_action #update action\n",
    "                total_reward += reward #update total reward\n",
    "            rewards.append(total_reward)\n",
    "            if total_reward > best_episode_reward:\n",
    "                best_episode_reward = total_reward\n",
    "                best_episode = episode\n",
    "        return rewards, best_episode_reward, best_episode , self.Q\n",
    "    "
   ]
  },
  {
   "cell_type": "code",
   "execution_count": 102,
   "id": "e5cb598a",
   "metadata": {
    "scrolled": false
   },
   "outputs": [
    {
     "name": "stderr",
     "output_type": "stream",
     "text": [
      "C:\\ProgramData\\Anaconda3\\lib\\site-packages\\gym\\core.py:317: DeprecationWarning: \u001b[33mWARN: Initializing wrapper in old step API which returns one bool instead of two. It is recommended to set `new_step_api=True` to use new step API. This will be the default behaviour in future.\u001b[0m\n",
      "  deprecation(\n",
      "C:\\ProgramData\\Anaconda3\\lib\\site-packages\\gym\\wrappers\\step_api_compatibility.py:39: DeprecationWarning: \u001b[33mWARN: Initializing environment in old step API which returns one bool instead of two. It is recommended to set `new_step_api=True` to use new step API. This will be the default behaviour in future.\u001b[0m\n",
      "  deprecation(\n",
      "C:\\ProgramData\\Anaconda3\\lib\\site-packages\\gym\\utils\\passive_env_checker.py:241: DeprecationWarning: `np.bool8` is a deprecated alias for `np.bool_`.  (Deprecated NumPy 1.24)\n",
      "  if not isinstance(terminated, (bool, np.bool8)):\n"
     ]
    },
    {
     "name": "stdout",
     "output_type": "stream",
     "text": [
      "Average reward over the runs: \n"
     ]
    },
    {
     "data": {
      "image/png": "[encoded data removed]",
      "text/plain": [
       "<Figure size 432x288 with 1 Axes>"
      ]
     },
     "metadata": {
      "needs_background": "light"
     },
     "output_type": "display_data"
    },
    {
     "name": "stdout",
     "output_type": "stream",
     "text": [
      "----------------------------------\n",
      "Mean of best episode rewards:  14.95\n",
      "Mean of best episodes:  371.2\n",
      "----------------------------------\n"
     ]
    }
   ],
   "source": [
    "runs = 20\n",
    "num_episodes = 1000\n",
    "sarsa_rewards = np.zeros((runs, num_episodes))\n",
    "sarsa_best_episode_rewards = np.zeros(runs)\n",
    "sarsa_best_episodes = np.zeros(runs)\n",
    "sarsa_learn_Q_table=np.zeros((runs, 500, 6))\n",
    "\n",
    "for run in range(runs):\n",
    "    agent = SarsaAgent('Taxi-v3') \n",
    "    sarsa_rewards[run, :], sarsa_best_episode_rewards[run], sarsa_best_episodes[run],sarsa_learn_Q_table[run, :, :] = agent.run(num_episodes)\n",
    "\n",
    "#We plot the average reward over the N runs\n",
    "print(\"Average reward over the runs: \")\n",
    "plot_rewards(np.mean(sarsa_rewards, axis=0))\n",
    "\n",
    "print(\"----------------------------------\")\n",
    "\n",
    "#We print the best reward and the episode in which it was obtained\n",
    "\n",
    "print(\"Mean of best episode rewards: \", np.mean(sarsa_best_episode_rewards))\n",
    "print(\"Mean of best episodes: \", np.mean(sarsa_best_episodes))\n",
    "\n",
    "print(\"----------------------------------\")"
   ]
  },
  {
   "cell_type": "markdown",
   "id": "cdd36256",
   "metadata": {},
   "source": [
    "## Part C : RUN trained agents"
   ]
  },
  {
   "cell_type": "markdown",
   "id": "0f5b275d",
   "metadata": {},
   "source": [
    "### MC ON-Policy "
   ]
  },
  {
   "cell_type": "code",
   "execution_count": 153,
   "id": "b6d45f0b",
   "metadata": {},
   "outputs": [
    {
     "name": "stdout",
     "output_type": "stream",
     "text": [
      "Total reward:  6\n",
      "Total steps:  15\n",
      "Total reward:  3\n",
      "Total steps:  18\n",
      "Total reward:  12\n",
      "Total steps:  9\n",
      "Total reward:  -20\n",
      "Total steps:  20\n",
      "Total reward:  5\n",
      "Total steps:  16\n",
      "Total reward:  12\n",
      "Total steps:  9\n",
      "Total reward:  6\n",
      "Total steps:  15\n",
      "Total reward:  9\n",
      "Total steps:  12\n",
      "Total reward:  -20\n",
      "Total steps:  20\n",
      "Total reward:  10\n",
      "Total steps:  11\n"
     ]
    }
   ],
   "source": [
    "runs = 10\n",
    "for run in range(runs):\n",
    "    run_agent('Taxi-v3', agent_type='trained', Q=on_monte_carlo_q_tables[run,: ,:])"
   ]
  },
  {
   "cell_type": "markdown",
   "id": "3499bc03",
   "metadata": {},
   "source": [
    "### Q Learning Policy Run"
   ]
  },
  {
   "cell_type": "code",
   "execution_count": 154,
   "id": "c448af0b",
   "metadata": {
    "scrolled": false
   },
   "outputs": [
    {
     "name": "stdout",
     "output_type": "stream",
     "text": [
      "Total reward:  8\n",
      "Total steps:  13\n",
      "Total reward:  10\n",
      "Total steps:  11\n",
      "Total reward:  6\n",
      "Total steps:  15\n",
      "Total reward:  6\n",
      "Total steps:  15\n",
      "Total reward:  8\n",
      "Total steps:  13\n",
      "Total reward:  5\n",
      "Total steps:  16\n",
      "Total reward:  10\n",
      "Total steps:  11\n",
      "Total reward:  6\n",
      "Total steps:  15\n",
      "Total reward:  8\n",
      "Total steps:  13\n",
      "Total reward:  11\n",
      "Total steps:  10\n"
     ]
    }
   ],
   "source": [
    "runs = 10\n",
    "for run in range(runs):\n",
    "    run_agent('Taxi-v3', agent_type='trained', Q=q_learn_Q_table[run,: ,:])"
   ]
  },
  {
   "cell_type": "markdown",
   "id": "a4b57670",
   "metadata": {},
   "source": [
    "### SARSA Policy Run"
   ]
  },
  {
   "cell_type": "code",
   "execution_count": 155,
   "id": "db310cee",
   "metadata": {},
   "outputs": [
    {
     "name": "stdout",
     "output_type": "stream",
     "text": [
      "Total reward:  7\n",
      "Total steps:  14\n",
      "Total reward:  6\n",
      "Total steps:  15\n",
      "Total reward:  -20\n",
      "Total steps:  20\n",
      "Total reward:  -20\n",
      "Total steps:  20\n",
      "Total reward:  10\n",
      "Total steps:  11\n",
      "Total reward:  6\n",
      "Total steps:  15\n",
      "Total reward:  9\n",
      "Total steps:  12\n",
      "Total reward:  10\n",
      "Total steps:  11\n",
      "Total reward:  7\n",
      "Total steps:  14\n",
      "Total reward:  -20\n",
      "Total steps:  20\n"
     ]
    }
   ],
   "source": [
    "runs = 10\n",
    "for run in range(runs):\n",
    "    run_agent('Taxi-v3', agent_type='trained', Q=sarsa_learn_Q_table[run,: ,:])"
   ]
  },
  {
   "cell_type": "code",
   "execution_count": 148,
   "id": "8d2ee8e7",
   "metadata": {
    "scrolled": true
   },
   "outputs": [
    {
     "data": {
      "image/png": "[encoded data removed]",
      "text/plain": [
       "<Figure size 432x288 with 1 Axes>"
      ]
     },
     "metadata": {
      "needs_background": "light"
     },
     "output_type": "display_data"
    }
   ],
   "source": [
    "#plot all curves\n",
    "#plt.plot(np.mean(off_policy_monte_carlo_rewards2, axis=0), label=\"Off-Policy Monte Carlo\")\n",
    "#plt.plot(np.mean(on_monte_carlo_rewards, axis=0), label=\"On-Policy Monte Carlo\")\n",
    "plt.plot(np.mean(sarsa_rewards, axis=0), label=\"Sarsa\")\n",
    "plt.plot(np.mean(q_learn_rewards, axis=0), label=\"Q-Learning\")\n",
    "plt.xlabel(\"Episode\")\n",
    "plt.ylabel(\"Total reward\")\n",
    "plt.legend()\n",
    "plt.show()"
   ]
  }
 ],
 "metadata": {
  "kernelspec": {
   "display_name": "Python 3",
   "language": "python",
   "name": "python3"
  },
  "language_info": {
   "codemirror_mode": {
    "name": "ipython",
    "version": 3
   },
   "file_extension": ".py",
   "mimetype": "text/x-python",
   "name": "python",
   "nbconvert_exporter": "python",
   "pygments_lexer": "ipython3",
   "version": "3.8.8"
  }
 },
 "nbformat": 4,
 "nbformat_minor": 5
}
